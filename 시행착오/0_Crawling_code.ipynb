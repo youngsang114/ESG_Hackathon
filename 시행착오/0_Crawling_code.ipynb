{
 "cells": [
  {
   "cell_type": "code",
   "execution_count": 2,
   "metadata": {},
   "outputs": [],
   "source": [
    "import pandas as pd"
   ]
  },
  {
   "cell_type": "code",
   "execution_count": 5,
   "metadata": {},
   "outputs": [
    {
     "name": "stdout",
     "output_type": "stream",
     "text": [
      "Collecting pyarrow\n",
      "  Downloading pyarrow-12.0.0-cp310-cp310-win_amd64.whl (21.5 MB)\n",
      "     --------------------------------------- 21.5/21.5 MB 36.4 MB/s eta 0:00:00\n",
      "Requirement already satisfied: numpy>=1.16.6 in c:\\users\\shoni\\appdata\\local\\programs\\python\\python310\\lib\\site-packages (from pyarrow) (1.24.3)\n",
      "Installing collected packages: pyarrow\n",
      "Successfully installed pyarrow-12.0.0\n"
     ]
    },
    {
     "name": "stderr",
     "output_type": "stream",
     "text": [
      "\n",
      "[notice] A new release of pip available: 22.3.1 -> 23.1.2\n",
      "[notice] To update, run: python.exe -m pip install --upgrade pip\n"
     ]
    }
   ],
   "source": [
    "!pip install pyarrow\n",
    "import pandas as pd\n",
    "import urllib.request #웹에 접근하기 위한 모듈\n",
    "from bs4 import BeautifulSoup as bs #웹 크롤링을 위한 모듈\n",
    "import re\n",
    "import zipfile\n",
    "from glob import glob\n",
    "import os\n",
    "import numpy as np\n",
    "import warnings \n",
    "warnings.filterwarnings(\"ignore\")\n",
    "from tqdm import tqdm, tqdm_notebook\n",
    "pd.options.display.float_format = '{:.0f}'.format\n",
    "\n",
    "import time\n",
    "from tqdm import tqdm, tqdm_notebook\n",
    "from pyarrow import csv"
   ]
  },
  {
   "cell_type": "code",
   "execution_count": 6,
   "metadata": {},
   "outputs": [],
   "source": [
    "def page_list(page):\n",
    "        ESGLIST_URL = \"http://www.cgs.or.kr/business/esg_tab04.jsp?pg={}&pp=10&skey=&svalue=&sfyear=2021&styear=2021&sgtype=&sgrade=#ui_contents\".format(page) #주소설정\n",
    "        response = urllib.request.urlopen(ESGLIST_URL)\n",
    "        ESGLIST_HTML = response.read()\n",
    "\n",
    "        soup = bs(ESGLIST_HTML)\n",
    "        STK_ESG_GRADE=pd.DataFrame()\n",
    "        if page <= 100:\n",
    "            num_list = [0,1,2,3,4,5,6,7,8,9]\n",
    "        else:\n",
    "            num_list = [0,1,2,3,4]\n",
    "        for i in num_list:\n",
    "            find_stk = soup.find_all('td')[i*9:i*9+9]\n",
    "            stk_col_list=[]\n",
    "            for i in [0,1,2,3,4,5,6,7,8]:\n",
    "                stk_col_list.append(find_stk[i].text)\n",
    "                clean_stk_col_list=pd.DataFrame(stk_col_list).transpose()\n",
    "            STK_ESG_GRADE = pd.concat([STK_ESG_GRADE,clean_stk_col_list])\n",
    "        return STK_ESG_GRADE"
   ]
  },
  {
   "cell_type": "code",
   "execution_count": 8,
   "metadata": {},
   "outputs": [
    {
     "data": {
      "application/vnd.jupyter.widget-view+json": {
       "model_id": "abf13017701b4b4fad85e3a991edd1cb",
       "version_major": 2,
       "version_minor": 0
      },
      "text/plain": [
       "  0%|          | 0/101 [00:00<?, ?it/s]"
      ]
     },
     "metadata": {},
     "output_type": "display_data"
    },
    {
     "name": "stdout",
     "output_type": "stream",
     "text": [
      "<class 'pandas.core.frame.DataFrame'>\n",
      "RangeIndex: 1005 entries, 0 to 1004\n",
      "Data columns (total 7 columns):\n",
      " #   Column  Non-Null Count  Dtype \n",
      "---  ------  --------------  ----- \n",
      " 0   기업명     1005 non-null   object\n",
      " 1   기업코드    1005 non-null   object\n",
      " 2   ESG등급   1005 non-null   object\n",
      " 3   환경      1005 non-null   object\n",
      " 4   사회      1005 non-null   object\n",
      " 5   지배구조    1005 non-null   object\n",
      " 6   평가년도    1005 non-null   object\n",
      "dtypes: object(7)\n",
      "memory usage: 55.1+ KB\n"
     ]
    }
   ],
   "source": [
    "from tqdm import tqdm \n",
    "import time\n",
    "\n",
    "df_esg = pd.DataFrame()\n",
    "for i in tqdm_notebook(list(range(1,102))):\n",
    "    df_temp = page_list(i)\n",
    "    df_esg = pd.concat([df_esg,df_temp])\n",
    "    df_esg\n",
    "\n",
    "df_esg.columns = ['NO', '기업명','기업코드','ESG등급','환경','사회','지배구조','평가년도','비고']\n",
    "df_esg.reset_index(inplace=True)\n",
    "df_esg.drop(columns=['index','NO','비고'], inplace=True)\n"
   ]
  },
  {
   "cell_type": "code",
   "execution_count": 9,
   "metadata": {},
   "outputs": [
    {
     "name": "stdout",
     "output_type": "stream",
     "text": [
      "<class 'pandas.core.frame.DataFrame'>\n",
      "RangeIndex: 1005 entries, 0 to 1004\n",
      "Data columns (total 7 columns):\n",
      " #   Column  Non-Null Count  Dtype \n",
      "---  ------  --------------  ----- \n",
      " 0   기업명     1005 non-null   object\n",
      " 1   기업코드    1005 non-null   object\n",
      " 2   ESG등급   1005 non-null   object\n",
      " 3   환경      1005 non-null   object\n",
      " 4   사회      1005 non-null   object\n",
      " 5   지배구조    1005 non-null   object\n",
      " 6   평가년도    1005 non-null   object\n",
      "dtypes: object(7)\n",
      "memory usage: 55.1+ KB\n"
     ]
    }
   ],
   "source": [
    "df_esg.info()\n"
   ]
  },
  {
   "cell_type": "code",
   "execution_count": 10,
   "metadata": {},
   "outputs": [],
   "source": [
    "df_esg.to_csv('2022.csv', index=False)"
   ]
  },
  {
   "cell_type": "code",
   "execution_count": 1,
   "metadata": {},
   "outputs": [],
   "source": [
    "def page_list(page):\n",
    "        ESGLIST_URL = \"https://esg.krx.co.kr/contents/02/02020000/ESG02020000.jsp\".format(page) #주소설정\n",
    "        response = urllib.request.urlopen(ESGLIST_URL)\n",
    "        ESGLIST_HTML = response.read()\n",
    "\n",
    "        soup = bs(ESGLIST_HTML)\n",
    "        ESG_GRADE=pd.DataFrame()\n",
    "        if page <= 100:\n",
    "            num_list = [0,1,2,3,4,5,6,7,8,9]\n",
    "        else:\n",
    "            num_list = [0,1,2,3,4]\n",
    "        for i in num_list:\n",
    "            find_stk = soup.find_all('td')[i*9:i*9+9]\n",
    "            stk_col_list=[]\n",
    "            for i in [0,1,2,3,4,5,6,7,8]:\n",
    "                stk_col_list.append(find_stk[i].text)\n",
    "                clean_stk_col_list=pd.DataFrame(stk_col_list).transpose()\n",
    "            ESG_GRADE = pd.concat([ESG_GRADE,clean_stk_col_list])\n",
    "        return ESG_GRADE"
   ]
  },
  {
   "cell_type": "code",
   "execution_count": null,
   "metadata": {},
   "outputs": [],
   "source": [
    "esg_2021 = pd.DataFrame()\n",
    "for i in tqdm_notebook(list(range(1, 102))):\n",
    "    temp = page_list(i)\n",
    "    "
   ]
  },
  {
   "cell_type": "code",
   "execution_count": 3,
   "metadata": {},
   "outputs": [
    {
     "ename": "NameError",
     "evalue": "name 'pd' is not defined",
     "output_type": "error",
     "traceback": [
      "\u001b[1;31m---------------------------------------------------------------------------\u001b[0m",
      "\u001b[1;31mNameError\u001b[0m                                 Traceback (most recent call last)",
      "Cell \u001b[1;32mIn[3], line 1\u001b[0m\n\u001b[1;32m----> 1\u001b[0m df1_esg \u001b[39m=\u001b[39m pd\u001b[39m.\u001b[39mDataFrame()\n\u001b[0;32m      2\u001b[0m \u001b[39mfor\u001b[39;00m i \u001b[39min\u001b[39;00m tqdm_notebook(\u001b[39mlist\u001b[39m(\u001b[39mrange\u001b[39m(\u001b[39m1\u001b[39m,\u001b[39m102\u001b[39m))):\n\u001b[0;32m      3\u001b[0m     df1_temp \u001b[39m=\u001b[39m page_list(i)\n",
      "\u001b[1;31mNameError\u001b[0m: name 'pd' is not defined"
     ]
    }
   ],
   "source": [
    "df1_esg = pd.DataFrame()\n",
    "for i in tqdm_notebook(list(range(1,102))):\n",
    "    df1_temp = page_list(i)\n",
    "    df1_esg = pd.concat([df1_esg,df1_temp])\n",
    "    df1_esg\n",
    "\n",
    "df1_esg.columns = ['NO', '기업명','기업코드','ESG등급','환경','사회','지배구조','평가년도','비고']\n",
    "df1_esg.reset_index(inplace=True)\n",
    "df1_esg.drop(columns=['index','NO','비고'], inplace=True)\n"
   ]
  }
 ],
 "metadata": {
  "kernelspec": {
   "display_name": "Python 3",
   "language": "python",
   "name": "python3"
  },
  "language_info": {
   "codemirror_mode": {
    "name": "ipython",
    "version": 3
   },
   "file_extension": ".py",
   "mimetype": "text/x-python",
   "name": "python",
   "nbconvert_exporter": "python",
   "pygments_lexer": "ipython3",
   "version": "3.10.9"
  },
  "orig_nbformat": 4
 },
 "nbformat": 4,
 "nbformat_minor": 2
}
