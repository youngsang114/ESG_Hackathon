{
 "cells": [
  {
   "cell_type": "code",
   "execution_count": 5,
   "metadata": {},
   "outputs": [],
   "source": [
    "import pandas as pd\n",
    "import numpy as np\n",
    "import matplotlib.pyplot as plt\n",
    "import seaborn as sns\n",
    "import scipy.stats as mstats"
   ]
  },
  {
   "attachments": {},
   "cell_type": "markdown",
   "metadata": {},
   "source": [
    "################################################################################################################################################"
   ]
  },
  {
   "cell_type": "code",
   "execution_count": 6,
   "metadata": {},
   "outputs": [
    {
     "data": {
      "text/plain": [
       "배당기업구분\n",
       "일반배당기업    2129\n",
       "무배당기업     1091\n",
       "고배당기업      532\n",
       "Name: count, dtype: int64"
      ]
     },
     "execution_count": 6,
     "metadata": {},
     "output_type": "execute_result"
    }
   ],
   "source": [
    "A=pd.read_csv('./winsor_2.csv',encoding='euc-kr',index_col='기업명')\n",
    "A=pd.get_dummies(A,columns=['ESG','E','S','G'])\n",
    "A['총자산규모']=np.log(A['총자산규모'])\n",
    "A=A.loc[:,['업종명', '평가연도', '총자산규모', '부채비율', '자기자본비율', '매출액증가율', '현금흐름', 'PBR'\n",
    "       ,'ESG_-', 'ESG_A', 'ESG_A+', 'ESG_B', 'ESG_B+', 'ESG_B이하',\n",
    "       'ESG_C', 'ESG_D', 'E_-', 'E_A', 'E_A+', 'E_B', 'E_B+', 'E_B+ 이하', 'E_C',\n",
    "       'E_D', 'S_-', 'S_A', 'S_A+', 'S_B', 'S_B+', 'S_B이하', 'S_C', 'S_D',\n",
    "       'G_-', 'G_A', 'G_A+', 'G_B', 'G_B+', 'G_B이하', 'G_C', 'G_D','배당기업구분']]\n",
    "\n",
    "x=A.iloc[:,2:40]\n",
    "y=A['배당기업구분']\n",
    "y.value_counts()\n"
   ]
  },
  {
   "cell_type": "code",
   "execution_count": 7,
   "metadata": {},
   "outputs": [
    {
     "name": "stdout",
     "output_type": "stream",
     "text": [
      "              precision    recall  f1-score   support\n",
      "\n",
      "       고배당기업       0.75      0.46      0.57       107\n",
      "       무배당기업       0.66      0.57      0.61       218\n",
      "      일반배당기업       0.71      0.83      0.77       426\n",
      "\n",
      "    accuracy                           0.70       751\n",
      "   macro avg       0.71      0.62      0.65       751\n",
      "weighted avg       0.70      0.70      0.69       751\n",
      "\n",
      "정확도: 0.7017310252996005\n"
     ]
    }
   ],
   "source": [
    "from sklearn.tree import DecisionTreeClassifier\n",
    "from sklearn.ensemble import RandomForestClassifier\n",
    "from sklearn.metrics import accuracy_score,classification_report\n",
    "from sklearn.model_selection import train_test_split\n",
    "\n",
    "X=A.iloc[:,2:8]\n",
    "y=A['배당기업구분']\n",
    "\n",
    "X_train, X_test, y_train, y_test = train_test_split(X, y, test_size =0.2, stratify =y, random_state =100)\n",
    "clf = RandomForestClassifier(n_estimators =100, min_samples_split =10)\n",
    "clf.fit(X_train, y_train)\n",
    "pred=clf.predict(X_test)\n",
    "\n",
    "print(classification_report(y_test, pred))\n",
    "print('정확도:',accuracy_score(y_test, pred))\n"
   ]
  },
  {
   "cell_type": "code",
   "execution_count": 60,
   "metadata": {},
   "outputs": [
    {
     "name": "stdout",
     "output_type": "stream",
     "text": [
      "              precision    recall  f1-score   support\n",
      "\n",
      "       고배당기업       0.80      0.34      0.47       107\n",
      "       무배당기업       0.74      0.59      0.66       218\n",
      "      일반배당기업       0.71      0.89      0.79       426\n",
      "\n",
      "    accuracy                           0.72       751\n",
      "   macro avg       0.75      0.61      0.64       751\n",
      "weighted avg       0.73      0.72      0.71       751\n",
      "\n",
      "정확도: 0.7243675099866844\n"
     ]
    },
    {
     "ename": "ValueError",
     "evalue": "The feature names should match those that were passed during fit.\nFeature names seen at fit time, yet now missing:\n- ESG_-\n- ESG_A\n- ESG_A+\n- ESG_B\n- ESG_B+\n- ...\n",
     "output_type": "error",
     "traceback": [
      "\u001b[1;31m---------------------------------------------------------------------------\u001b[0m",
      "\u001b[1;31mValueError\u001b[0m                                Traceback (most recent call last)",
      "Cell \u001b[1;32mIn[60], line 13\u001b[0m\n\u001b[0;32m     10\u001b[0m \u001b[39mprint\u001b[39m(classification_report(y_test, pred))\n\u001b[0;32m     11\u001b[0m \u001b[39mprint\u001b[39m(\u001b[39m'\u001b[39m\u001b[39m정확도:\u001b[39m\u001b[39m'\u001b[39m,accuracy_score(y_test, pred))\n\u001b[1;32m---> 13\u001b[0m pred_2\u001b[39m=\u001b[39mclf\u001b[39m.\u001b[39;49mpredict(a)\n",
      "File \u001b[1;32mc:\\Users\\dgh06\\AppData\\Local\\Programs\\Python\\Python310\\lib\\site-packages\\sklearn\\ensemble\\_forest.py:820\u001b[0m, in \u001b[0;36mForestClassifier.predict\u001b[1;34m(self, X)\u001b[0m\n\u001b[0;32m    799\u001b[0m \u001b[39mdef\u001b[39;00m \u001b[39mpredict\u001b[39m(\u001b[39mself\u001b[39m, X):\n\u001b[0;32m    800\u001b[0m \u001b[39m    \u001b[39m\u001b[39m\"\"\"\u001b[39;00m\n\u001b[0;32m    801\u001b[0m \u001b[39m    Predict class for X.\u001b[39;00m\n\u001b[0;32m    802\u001b[0m \n\u001b[1;32m   (...)\u001b[0m\n\u001b[0;32m    818\u001b[0m \u001b[39m        The predicted classes.\u001b[39;00m\n\u001b[0;32m    819\u001b[0m \u001b[39m    \"\"\"\u001b[39;00m\n\u001b[1;32m--> 820\u001b[0m     proba \u001b[39m=\u001b[39m \u001b[39mself\u001b[39;49m\u001b[39m.\u001b[39;49mpredict_proba(X)\n\u001b[0;32m    822\u001b[0m     \u001b[39mif\u001b[39;00m \u001b[39mself\u001b[39m\u001b[39m.\u001b[39mn_outputs_ \u001b[39m==\u001b[39m \u001b[39m1\u001b[39m:\n\u001b[0;32m    823\u001b[0m         \u001b[39mreturn\u001b[39;00m \u001b[39mself\u001b[39m\u001b[39m.\u001b[39mclasses_\u001b[39m.\u001b[39mtake(np\u001b[39m.\u001b[39margmax(proba, axis\u001b[39m=\u001b[39m\u001b[39m1\u001b[39m), axis\u001b[39m=\u001b[39m\u001b[39m0\u001b[39m)\n",
      "File \u001b[1;32mc:\\Users\\dgh06\\AppData\\Local\\Programs\\Python\\Python310\\lib\\site-packages\\sklearn\\ensemble\\_forest.py:862\u001b[0m, in \u001b[0;36mForestClassifier.predict_proba\u001b[1;34m(self, X)\u001b[0m\n\u001b[0;32m    860\u001b[0m check_is_fitted(\u001b[39mself\u001b[39m)\n\u001b[0;32m    861\u001b[0m \u001b[39m# Check data\u001b[39;00m\n\u001b[1;32m--> 862\u001b[0m X \u001b[39m=\u001b[39m \u001b[39mself\u001b[39;49m\u001b[39m.\u001b[39;49m_validate_X_predict(X)\n\u001b[0;32m    864\u001b[0m \u001b[39m# Assign chunk of trees to jobs\u001b[39;00m\n\u001b[0;32m    865\u001b[0m n_jobs, _, _ \u001b[39m=\u001b[39m _partition_estimators(\u001b[39mself\u001b[39m\u001b[39m.\u001b[39mn_estimators, \u001b[39mself\u001b[39m\u001b[39m.\u001b[39mn_jobs)\n",
      "File \u001b[1;32mc:\\Users\\dgh06\\AppData\\Local\\Programs\\Python\\Python310\\lib\\site-packages\\sklearn\\ensemble\\_forest.py:602\u001b[0m, in \u001b[0;36mBaseForest._validate_X_predict\u001b[1;34m(self, X)\u001b[0m\n\u001b[0;32m    599\u001b[0m \u001b[39m\u001b[39m\u001b[39m\"\"\"\u001b[39;00m\n\u001b[0;32m    600\u001b[0m \u001b[39mValidate X whenever one tries to predict, apply, predict_proba.\"\"\"\u001b[39;00m\n\u001b[0;32m    601\u001b[0m check_is_fitted(\u001b[39mself\u001b[39m)\n\u001b[1;32m--> 602\u001b[0m X \u001b[39m=\u001b[39m \u001b[39mself\u001b[39;49m\u001b[39m.\u001b[39;49m_validate_data(X, dtype\u001b[39m=\u001b[39;49mDTYPE, accept_sparse\u001b[39m=\u001b[39;49m\u001b[39m\"\u001b[39;49m\u001b[39mcsr\u001b[39;49m\u001b[39m\"\u001b[39;49m, reset\u001b[39m=\u001b[39;49m\u001b[39mFalse\u001b[39;49;00m)\n\u001b[0;32m    603\u001b[0m \u001b[39mif\u001b[39;00m issparse(X) \u001b[39mand\u001b[39;00m (X\u001b[39m.\u001b[39mindices\u001b[39m.\u001b[39mdtype \u001b[39m!=\u001b[39m np\u001b[39m.\u001b[39mintc \u001b[39mor\u001b[39;00m X\u001b[39m.\u001b[39mindptr\u001b[39m.\u001b[39mdtype \u001b[39m!=\u001b[39m np\u001b[39m.\u001b[39mintc):\n\u001b[0;32m    604\u001b[0m     \u001b[39mraise\u001b[39;00m \u001b[39mValueError\u001b[39;00m(\u001b[39m\"\u001b[39m\u001b[39mNo support for np.int64 index based sparse matrices\u001b[39m\u001b[39m\"\u001b[39m)\n",
      "File \u001b[1;32mc:\\Users\\dgh06\\AppData\\Local\\Programs\\Python\\Python310\\lib\\site-packages\\sklearn\\base.py:548\u001b[0m, in \u001b[0;36mBaseEstimator._validate_data\u001b[1;34m(self, X, y, reset, validate_separately, **check_params)\u001b[0m\n\u001b[0;32m    483\u001b[0m \u001b[39mdef\u001b[39;00m \u001b[39m_validate_data\u001b[39m(\n\u001b[0;32m    484\u001b[0m     \u001b[39mself\u001b[39m,\n\u001b[0;32m    485\u001b[0m     X\u001b[39m=\u001b[39m\u001b[39m\"\u001b[39m\u001b[39mno_validation\u001b[39m\u001b[39m\"\u001b[39m,\n\u001b[1;32m   (...)\u001b[0m\n\u001b[0;32m    489\u001b[0m     \u001b[39m*\u001b[39m\u001b[39m*\u001b[39mcheck_params,\n\u001b[0;32m    490\u001b[0m ):\n\u001b[0;32m    491\u001b[0m \u001b[39m    \u001b[39m\u001b[39m\"\"\"Validate input data and set or check the `n_features_in_` attribute.\u001b[39;00m\n\u001b[0;32m    492\u001b[0m \n\u001b[0;32m    493\u001b[0m \u001b[39m    Parameters\u001b[39;00m\n\u001b[1;32m   (...)\u001b[0m\n\u001b[0;32m    546\u001b[0m \u001b[39m        validated.\u001b[39;00m\n\u001b[0;32m    547\u001b[0m \u001b[39m    \"\"\"\u001b[39;00m\n\u001b[1;32m--> 548\u001b[0m     \u001b[39mself\u001b[39;49m\u001b[39m.\u001b[39;49m_check_feature_names(X, reset\u001b[39m=\u001b[39;49mreset)\n\u001b[0;32m    550\u001b[0m     \u001b[39mif\u001b[39;00m y \u001b[39mis\u001b[39;00m \u001b[39mNone\u001b[39;00m \u001b[39mand\u001b[39;00m \u001b[39mself\u001b[39m\u001b[39m.\u001b[39m_get_tags()[\u001b[39m\"\u001b[39m\u001b[39mrequires_y\u001b[39m\u001b[39m\"\u001b[39m]:\n\u001b[0;32m    551\u001b[0m         \u001b[39mraise\u001b[39;00m \u001b[39mValueError\u001b[39;00m(\n\u001b[0;32m    552\u001b[0m             \u001b[39mf\u001b[39m\u001b[39m\"\u001b[39m\u001b[39mThis \u001b[39m\u001b[39m{\u001b[39;00m\u001b[39mself\u001b[39m\u001b[39m.\u001b[39m\u001b[39m__class__\u001b[39m\u001b[39m.\u001b[39m\u001b[39m__name__\u001b[39m\u001b[39m}\u001b[39;00m\u001b[39m estimator \u001b[39m\u001b[39m\"\u001b[39m\n\u001b[0;32m    553\u001b[0m             \u001b[39m\"\u001b[39m\u001b[39mrequires y to be passed, but the target y is None.\u001b[39m\u001b[39m\"\u001b[39m\n\u001b[0;32m    554\u001b[0m         )\n",
      "File \u001b[1;32mc:\\Users\\dgh06\\AppData\\Local\\Programs\\Python\\Python310\\lib\\site-packages\\sklearn\\base.py:481\u001b[0m, in \u001b[0;36mBaseEstimator._check_feature_names\u001b[1;34m(self, X, reset)\u001b[0m\n\u001b[0;32m    476\u001b[0m \u001b[39mif\u001b[39;00m \u001b[39mnot\u001b[39;00m missing_names \u001b[39mand\u001b[39;00m \u001b[39mnot\u001b[39;00m unexpected_names:\n\u001b[0;32m    477\u001b[0m     message \u001b[39m+\u001b[39m\u001b[39m=\u001b[39m (\n\u001b[0;32m    478\u001b[0m         \u001b[39m\"\u001b[39m\u001b[39mFeature names must be in the same order as they were in fit.\u001b[39m\u001b[39m\\n\u001b[39;00m\u001b[39m\"\u001b[39m\n\u001b[0;32m    479\u001b[0m     )\n\u001b[1;32m--> 481\u001b[0m \u001b[39mraise\u001b[39;00m \u001b[39mValueError\u001b[39;00m(message)\n",
      "\u001b[1;31mValueError\u001b[0m: The feature names should match those that were passed during fit.\nFeature names seen at fit time, yet now missing:\n- ESG_-\n- ESG_A\n- ESG_A+\n- ESG_B\n- ESG_B+\n- ...\n"
     ]
    }
   ],
   "source": [
    "X=A.iloc[:,2:40]\n",
    "X\n",
    "y=A['배당기업구분']\n",
    "\n",
    "X_train, X_test, y_train, y_test = train_test_split(X, y, test_size =0.2, stratify =y, random_state =100)\n",
    "clf = RandomForestClassifier(n_estimators =100, min_samples_split =10)\n",
    "clf.fit(X_train, y_train)\n",
    "pred=clf.predict(X_test)\n",
    "\n",
    "print(classification_report(y_test, pred))\n",
    "print('정확도:',accuracy_score(y_test, pred))\n",
    "\n",
    "pred_2=clf.predict(a)\n"
   ]
  },
  {
   "cell_type": "code",
   "execution_count": 9,
   "metadata": {},
   "outputs": [],
   "source": [
    "# # Random Oversampling(4866개)\n",
    "# from imblearn.over_sampling import RandomOverSampler, SMOTE\n",
    "# ros = RandomOverSampler(random_state =0,sampling_strategy={'무배당기업':2129, '일반기업':2129 ,'고배당기업':2129})\n",
    "# X_ro, y_ro = ros.fit_resample(X, y)\n",
    "# print(X_ro.shape)"
   ]
  },
  {
   "cell_type": "code",
   "execution_count": 10,
   "metadata": {},
   "outputs": [
    {
     "name": "stdout",
     "output_type": "stream",
     "text": [
      "              precision    recall  f1-score   support\n",
      "\n",
      "       고배당기업       0.83      0.37      0.52       107\n",
      "       무배당기업       0.74      0.57      0.64       218\n",
      "      일반배당기업       0.71      0.89      0.79       426\n",
      "\n",
      "    accuracy                           0.72       751\n",
      "   macro avg       0.76      0.61      0.65       751\n",
      "weighted avg       0.74      0.72      0.71       751\n",
      "\n",
      "0.7243675099866844\n"
     ]
    }
   ],
   "source": [
    "from sklearn.model_selection import train_test_split\n",
    "from sklearn.ensemble import RandomForestClassifier\n",
    "from sklearn.metrics import classification_report,accuracy_score          ### f1-score을 좀더 쉽게 알기 위한 코드\n",
    "\n",
    "X = A.iloc[:,2:40]\n",
    "y=A['배당기업구분']\n",
    "X_train, X_test, y_train, y_test = train_test_split(X, y, test_size =0.2, stratify =y, random_state =100)\n",
    "clf = RandomForestClassifier(n_estimators =100, min_samples_split =10)\n",
    "clf.fit(X_train, y_train)\n",
    "\n",
    "pred=clf.predict(X_test)\n",
    "print(classification_report(y_test, pred))\n",
    "print(accuracy_score(y_test, pred))\n"
   ]
  },
  {
   "cell_type": "code",
   "execution_count": 19,
   "metadata": {},
   "outputs": [
    {
     "data": {
      "text/plain": [
       "0.6804260985352862"
      ]
     },
     "execution_count": 19,
     "metadata": {},
     "output_type": "execute_result"
    }
   ],
   "source": [
    "from xgboost import XGBClassifier\n",
    "from sklearn.metrics import accuracy_score\n",
    "\n",
    "\n",
    "A=pd.read_csv('./winsor_2.csv',encoding='euc-kr',index_col='기업명')\n",
    "A=pd.get_dummies(A,columns=['ESG','E','S','G'])\n",
    "A['총자산규모']=np.log(A['총자산규모'])\n",
    "A=A.loc[:,['업종명', '평가연도', '총자산규모', '부채비율', '자기자본비율', '매출액증가율', '현금흐름', 'PBR'\n",
    "       ,'ESG_-', 'ESG_A', 'ESG_A+', 'ESG_B', 'ESG_B+', 'ESG_B이하',\n",
    "       'ESG_C', 'ESG_D', 'E_-', 'E_A', 'E_A+', 'E_B', 'E_B+', 'E_B+ 이하', 'E_C',\n",
    "       'E_D', 'S_-', 'S_A', 'S_A+', 'S_B', 'S_B+', 'S_B이하', 'S_C', 'S_D',\n",
    "       'G_-', 'G_A', 'G_A+', 'G_B', 'G_B+', 'G_B이하', 'G_C', 'G_D','배당기업구분']]\n",
    "\n",
    "x=A.iloc[:,2:40]\n",
    "y=A['배당기업구분'].map({\n",
    "    '고배당기업':2,\n",
    "    '일반배당기업':1,\n",
    "    '무배당기업':0\n",
    "})\n",
    "X_train, X_test, y_train, y_test = train_test_split(X, y, test_size =0.2, stratify =y, random_state =100)\n",
    "# 모델 선언 예시\n",
    "model = XGBClassifier(n_estimators=500, learning_rate=0.1, random_state = 32)\n",
    "\n",
    "model.fit(X_train, y_train)\n",
    "\n",
    "\n",
    "\n",
    "y_pred = model.predict(X_test) # 예측 라벨(0과 1로 예측)\n",
    "\n",
    "# 예측 라벨과 실제 라벨 사이의 정확도 측정\n",
    "accuracy_score(y_pred, y_test)"
   ]
  },
  {
   "attachments": {},
   "cell_type": "markdown",
   "metadata": {},
   "source": [
    "## Test"
   ]
  },
  {
   "cell_type": "code",
   "execution_count": 55,
   "metadata": {},
   "outputs": [],
   "source": [
    "# train=pd.read_csv('./최종연도별data/Test.csv')\n",
    "\n",
    "# new_order =['Unnamed: 0','업종명','평가연도','총자산규모(Size)','부채비율(DEB)','자기자본비율(DEB)','매출액증가율','현금흐름(CF)','PBR','ESG','E','S','G','배당률']\n",
    "# train = train.reindex(columns=new_order)\n",
    "# train.columns=['기업명','업종명','평가연도','총자산규모','부채비율','자기자본비율','매출액증가율','현금흐름','PBR','ESG','E','S','G','배당률']\n",
    "# train.dropna(axis=0)\n",
    "\n",
    "# def change(x):\n",
    "#     if x==0:\n",
    "#         return '무배당기업'\n",
    "#     elif x>=47.12:\n",
    "#         return '고배당기업'\n",
    "#     else:\n",
    "#         return '일반배당기업'\n",
    "\n",
    "\n",
    "# train['배당률']=train['배당률'].apply(change)\n",
    "\n",
    "# train=pd.get_dummies(train,columns=['ESG','E','S','G'])\n",
    "# train=train.reindex(columns=['기업명', '업종명', '평가연도', '총자산규모', '부채비율', '자기자본비율', '매출액증가율', '현금흐름',\n",
    "#        'PBR', 'ESG_-', 'ESG_A', 'ESG_B', 'ESG_B+', 'ESG_C', 'ESG_D',\n",
    "#        'E_-', 'E_A', 'E_A+', 'E_B', 'E_B+', 'E_C', 'E_D', 'S_-', 'S_A', 'S_A+',\n",
    "#        'S_B', 'S_B+', 'S_C', 'S_D', 'G_A', 'G_A+', 'G_B', 'G_B+', 'G_C',\n",
    "#        'G_D', '배당률'])\n",
    "\n",
    "\n"
   ]
  },
  {
   "cell_type": "code",
   "execution_count": 59,
   "metadata": {},
   "outputs": [],
   "source": []
  },
  {
   "cell_type": "code",
   "execution_count": 68,
   "metadata": {},
   "outputs": [
    {
     "name": "stdout",
     "output_type": "stream",
     "text": [
      "              precision    recall  f1-score   support\n",
      "\n",
      "       고배당기업       0.73      0.49      0.58       107\n",
      "       무배당기업       0.70      0.56      0.62       218\n",
      "      일반배당기업       0.71      0.85      0.77       426\n",
      "\n",
      "    accuracy                           0.71       751\n",
      "   macro avg       0.72      0.63      0.66       751\n",
      "weighted avg       0.71      0.71      0.70       751\n",
      "\n",
      "정확도: 0.7123834886817576\n",
      "정확도: 0.3003731343283582\n"
     ]
    }
   ],
   "source": [
    "X=A.iloc[:,2:8]\n",
    "X\n",
    "y=A['배당기업구분']\n",
    "\n",
    "X_train, X_test, y_train, y_test = train_test_split(X, y, test_size =0.2, stratify =y, random_state =100)\n",
    "clf = RandomForestClassifier(n_estimators =100, min_samples_split =10)\n",
    "clf.fit(X_train, y_train)\n",
    "pred=clf.predict(X_test)\n",
    "\n",
    "print(classification_report(y_test, pred))\n",
    "print('정확도:',accuracy_score(y_test, pred))\n",
    "\n",
    "\n",
    "###################################\n",
    "B=pd.read_csv('test_sc.csv',encoding='euc-kr')\n",
    "X_B= B.iloc[:,3:9]\n",
    "Y_B=B['배당률']\n",
    "\n",
    "pred_B= clf.predict(X_B)\n",
    "print('정확도:',accuracy_score(Y_B ,pred_B))"
   ]
  },
  {
   "cell_type": "code",
   "execution_count": null,
   "metadata": {},
   "outputs": [],
   "source": []
  }
 ],
 "metadata": {
  "kernelspec": {
   "display_name": "Python 3",
   "language": "python",
   "name": "python3"
  },
  "language_info": {
   "codemirror_mode": {
    "name": "ipython",
    "version": 3
   },
   "file_extension": ".py",
   "mimetype": "text/x-python",
   "name": "python",
   "nbconvert_exporter": "python",
   "pygments_lexer": "ipython3",
   "version": "3.10.9"
  },
  "orig_nbformat": 4
 },
 "nbformat": 4,
 "nbformat_minor": 2
}
