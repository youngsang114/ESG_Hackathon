{
 "cells": [
  {
   "cell_type": "code",
   "execution_count": 1,
   "metadata": {},
   "outputs": [],
   "source": [
    "import pandas as pd"
   ]
  },
  {
   "cell_type": "code",
   "execution_count": 3,
   "metadata": {},
   "outputs": [
    {
     "data": {
      "text/plain": [
       "배당기업구분\n",
       "중배당기업    1593\n",
       "무배당기업    1091\n",
       "저배당기업     536\n",
       "고배당기업     532\n",
       "Name: count, dtype: int64"
      ]
     },
     "execution_count": 3,
     "metadata": {},
     "output_type": "execute_result"
    }
   ],
   "source": [
    "win=pd.read_csv('./winsor_1.csv',encoding='euc-kr',index_col='기업명').drop('Unnamed: 0',axis=1)\n",
    "win['배당기업구분'].value_counts()"
   ]
  },
  {
   "attachments": {},
   "cell_type": "markdown",
   "metadata": {},
   "source": [
    "# 오버 샘플링"
   ]
  },
  {
   "cell_type": "code",
   "execution_count": 44,
   "metadata": {},
   "outputs": [
    {
     "name": "stdout",
     "output_type": "stream",
     "text": [
      "(3752, 38)\n"
     ]
    }
   ],
   "source": [
    "## 원본 데이터(3752개)\n",
    "from imblearn.over_sampling import RandomOverSampler, SMOTE\n",
    "\n",
    "\n",
    "X = win.iloc[:,2:40]\n",
    "y = win['배당기업구분']\n",
    "print(X.shape)"
   ]
  },
  {
   "cell_type": "code",
   "execution_count": 45,
   "metadata": {},
   "outputs": [
    {
     "name": "stdout",
     "output_type": "stream",
     "text": [
      "(4866, 38)\n"
     ]
    }
   ],
   "source": [
    "# Random Oversampling(4866개)\n",
    "\n",
    "ros = RandomOverSampler(random_state =0,sampling_strategy={'중배당기업':1593, '무배당기업':1091, '저배당기업':1091 ,'고배당기업':1091})\n",
    "X_ro, y_ro = ros.fit_resample(X, y)\n",
    "print(X_ro.shape)"
   ]
  },
  {
   "cell_type": "code",
   "execution_count": 46,
   "metadata": {},
   "outputs": [
    {
     "name": "stdout",
     "output_type": "stream",
     "text": [
      "(4866, 38)\n"
     ]
    }
   ],
   "source": [
    "# SMOTE\n",
    "\n",
    "sm = SMOTE(random_state =42,sampling_strategy={'중배당기업':1593, '무배당기업':1091, '저배당기업':1091 ,'고배당기업':1091})\n",
    "X_sm, y_sm = sm.fit_resample(X, y)\n",
    "print(X_sm.shape)"
   ]
  },
  {
   "attachments": {},
   "cell_type": "markdown",
   "metadata": {},
   "source": [
    "## 재무적인 요인만 랜덤포레스트로 정확도,리포트 보기(원본 데이터)"
   ]
  },
  {
   "cell_type": "code",
   "execution_count": 47,
   "metadata": {},
   "outputs": [
    {
     "name": "stdout",
     "output_type": "stream",
     "text": [
      "              precision    recall  f1-score   support\n",
      "\n",
      "       고배당기업       0.66      0.49      0.56       107\n",
      "       무배당기업       0.63      0.64      0.63       218\n",
      "       저배당기업       0.29      0.09      0.14       107\n",
      "       중배당기업       0.61      0.80      0.69       319\n",
      "\n",
      "    accuracy                           0.61       751\n",
      "   macro avg       0.55      0.50      0.51       751\n",
      "weighted avg       0.58      0.61      0.58       751\n",
      "\n",
      "정확도: 0.6058588548601864\n"
     ]
    }
   ],
   "source": [
    "from sklearn.model_selection import train_test_split\n",
    "from sklearn.ensemble import RandomForestClassifier\n",
    "from sklearn.metrics import classification_report,accuracy_score   \n",
    " \n",
    "\n",
    "X=win.iloc[:,2:8]\n",
    "y=win['배당기업구분']\n",
    "\n",
    "X_train, X_test, y_train, y_test = train_test_split(X, y, test_size =0.2, stratify =y, random_state =100)\n",
    "clf = RandomForestClassifier(n_estimators =100, min_samples_split =10)\n",
    "clf.fit(X_train, y_train)\n",
    "pred=clf.predict(X_test)\n",
    "\n",
    "print(classification_report(y_test, pred))\n",
    "print('정확도:',accuracy_score(y_test, pred))\n",
    "\n"
   ]
  },
  {
   "attachments": {},
   "cell_type": "markdown",
   "metadata": {},
   "source": [
    "## 재무적 요인 + E,S,G 요인을 랜덤포레스트로 정확도,리포트 보기(원본 데이터)"
   ]
  },
  {
   "cell_type": "code",
   "execution_count": 48,
   "metadata": {},
   "outputs": [
    {
     "name": "stdout",
     "output_type": "stream",
     "text": [
      "              precision    recall  f1-score   support\n",
      "\n",
      "       고배당기업       0.72      0.36      0.47       107\n",
      "       무배당기업       0.63      0.72      0.67       218\n",
      "       저배당기업       0.50      0.09      0.16       107\n",
      "       중배당기업       0.61      0.82      0.70       319\n",
      "\n",
      "    accuracy                           0.62       751\n",
      "   macro avg       0.61      0.50      0.50       751\n",
      "weighted avg       0.61      0.62      0.58       751\n",
      "\n",
      "0.6205059920106525\n"
     ]
    }
   ],
   "source": [
    "from sklearn.model_selection import train_test_split\n",
    "from sklearn.ensemble import RandomForestClassifier\n",
    "from sklearn.metrics import classification_report,accuracy_score          ### f1-score을 좀더 쉽게 알기 위한 코드\n",
    "\n",
    "X = win.iloc[:,2:40]\n",
    "y=win['배당기업구분']\n",
    "X_train, X_test, y_train, y_test = train_test_split(X, y, test_size =0.2, stratify =y, random_state =100)\n",
    "clf = RandomForestClassifier(n_estimators =100, min_samples_split =10)\n",
    "clf.fit(X_train, y_train)\n",
    "\n",
    "pred=clf.predict(X_test)\n",
    "print(classification_report(y_test, pred))\n",
    "print(accuracy_score(y_test, pred))\n"
   ]
  },
  {
   "attachments": {},
   "cell_type": "markdown",
   "metadata": {},
   "source": [
    "> 저배당 기업의 재현율, f1-score가 많이 낮다"
   ]
  },
  {
   "attachments": {},
   "cell_type": "markdown",
   "metadata": {},
   "source": [
    "## 재무적 요인 + E,S,G 요인을 랜덤포레스트로 정확도,리포트 보기()"
   ]
  },
  {
   "cell_type": "code",
   "execution_count": 49,
   "metadata": {},
   "outputs": [
    {
     "name": "stdout",
     "output_type": "stream",
     "text": [
      "              precision    recall  f1-score   support\n",
      "\n",
      "       고배당기업       0.74      0.42      0.54       107\n",
      "       무배당기업       0.63      0.72      0.67       218\n",
      "       저배당기업       0.45      0.09      0.16       107\n",
      "       중배당기업       0.62      0.82      0.71       319\n",
      "\n",
      "    accuracy                           0.63       751\n",
      "   macro avg       0.61      0.51      0.52       751\n",
      "weighted avg       0.62      0.63      0.60       751\n",
      "\n",
      "0.6311584553928096\n"
     ]
    }
   ],
   "source": [
    "ros = RandomOverSampler(random_state =0,sampling_strategy={'중배당기업':1593, '무배당기업':1091, '저배당기업':1091 ,'고배당기업':1091})\n",
    "X_ro, y_ro = ros.fit_resample(X, y)\n",
    "X_ro = win.iloc[:,2:40]\n",
    "y_ro=win['배당기업구분']\n",
    "\n",
    "\n",
    "X_ro_train, X_ro_test, y_ro_train, y_ro_test = train_test_split(X_ro, y_ro, test_size =0.2, stratify =y_ro, random_state =100)\n",
    "clf_ro = RandomForestClassifier(n_estimators =100, min_samples_split=10, random_state =100)\n",
    "clf_ro.fit(X_ro_train, y_ro_train)\n",
    "\n",
    "pred_ro=clf_ro.predict(X_ro_test)\n",
    "print(classification_report(y_ro_test, pred_ro))\n",
    "print(accuracy_score(y_ro_test, pred_ro))\n"
   ]
  },
  {
   "cell_type": "code",
   "execution_count": 50,
   "metadata": {},
   "outputs": [
    {
     "name": "stdout",
     "output_type": "stream",
     "text": [
      "              precision    recall  f1-score   support\n",
      "\n",
      "       고배당기업       0.74      0.42      0.54       107\n",
      "       무배당기업       0.63      0.72      0.67       218\n",
      "       저배당기업       0.45      0.09      0.16       107\n",
      "       중배당기업       0.62      0.82      0.71       319\n",
      "\n",
      "    accuracy                           0.63       751\n",
      "   macro avg       0.61      0.51      0.52       751\n",
      "weighted avg       0.62      0.63      0.60       751\n",
      "\n",
      "0.6311584553928096\n"
     ]
    }
   ],
   "source": [
    "sm = SMOTE(random_state =0,sampling_strategy={'중배당기업':1593, '무배당기업':1593, '저배당기업':1091 ,'고배당기업':1091})\n",
    "X_sm, y_sm = sm.fit_resample(X, y)\n",
    "\n",
    "X_sm = win.iloc[:,2:40]\n",
    "y_sm=win['배당기업구분']\n",
    "\n",
    "X_sm_train, X_sm_test, y_sm_train, y_sm_test = train_test_split(X_sm, y_sm, test_size =0.2, stratify =y_sm, random_state =100)\n",
    "clf_sm = RandomForestClassifier(n_estimators =100, min_samples_split=10, random_state =100)\n",
    "clf_sm.fit(X_sm_train, y_sm_train)\n",
    "\n",
    "pred_sm=clf_sm.predict(X_sm_test)\n",
    "print(classification_report(y_sm_test, pred_sm))\n",
    "print(accuracy_score(y_sm_test, pred_sm))\n"
   ]
  },
  {
   "attachments": {},
   "cell_type": "markdown",
   "metadata": {},
   "source": [
    "## 언더 샘플링"
   ]
  },
  {
   "cell_type": "code",
   "execution_count": 51,
   "metadata": {},
   "outputs": [
    {
     "name": "stdout",
     "output_type": "stream",
     "text": [
      "              precision    recall  f1-score   support\n",
      "\n",
      "       고배당기업       0.66      0.49      0.56       107\n",
      "       무배당기업       0.63      0.65      0.64       218\n",
      "       저배당기업       0.42      0.13      0.20       107\n",
      "       중배당기업       0.62      0.81      0.70       319\n",
      "\n",
      "    accuracy                           0.62       751\n",
      "   macro avg       0.58      0.52      0.52       751\n",
      "weighted avg       0.60      0.62      0.59       751\n",
      "\n",
      "정확도: 0.6178428761651131\n"
     ]
    }
   ],
   "source": [
    "from imblearn.under_sampling import RandomUnderSampler\n",
    "win=pd.read_csv('./winsor_1.csv',encoding='euc-kr',index_col='기업명').drop('Unnamed: 0',axis=1)\n",
    "X=win.iloc[:,2:8]\n",
    "y=win['배당기업구분']\n",
    "rus = RandomUnderSampler(random_state =0)\n",
    "X_ru, y_ru = rus.fit_resample(X, y)\n",
    "\n",
    "\n",
    "\n",
    "X_train, X_test, y_train, y_test = train_test_split(X, y, test_size =0.2, stratify =y, random_state =100)\n",
    "clf = RandomForestClassifier(n_estimators =100, min_samples_split =10)\n",
    "clf.fit(X_train, y_train)\n",
    "pred=clf.predict(X_test)\n",
    "\n",
    "print(classification_report(y_test, pred))\n",
    "print('정확도:',accuracy_score(y_test, pred))"
   ]
  }
 ],
 "metadata": {
  "kernelspec": {
   "display_name": "Python 3",
   "language": "python",
   "name": "python3"
  },
  "language_info": {
   "codemirror_mode": {
    "name": "ipython",
    "version": 3
   },
   "file_extension": ".py",
   "mimetype": "text/x-python",
   "name": "python",
   "nbconvert_exporter": "python",
   "pygments_lexer": "ipython3",
   "version": "3.10.9"
  },
  "orig_nbformat": 4
 },
 "nbformat": 4,
 "nbformat_minor": 2
}
